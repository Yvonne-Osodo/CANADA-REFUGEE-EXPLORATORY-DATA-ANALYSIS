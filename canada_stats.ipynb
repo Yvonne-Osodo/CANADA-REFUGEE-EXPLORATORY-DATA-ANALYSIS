{
 "cells": [
  {
   "cell_type": "markdown",
   "metadata": {},
   "source": [
    "## Step 1. Importing and reading data"
   ]
  },
  {
   "cell_type": "code",
   "execution_count": 1,
   "metadata": {},
   "outputs": [],
   "source": [
    "import pandas as pd\n",
    "import numpy as np\n",
    "import matplotlib.pyplot as plt\n",
    "import seaborn as sns\n",
    "\n",
    "stats = pd.read_csv (\"can-stats-2012-22.csv\")\n"
   ]
  },
  {
   "cell_type": "markdown",
   "metadata": {},
   "source": [
    "## Step 2: Data Preparation"
   ]
  },
  {
   "cell_type": "code",
   "execution_count": null,
   "metadata": {},
   "outputs": [
    {
     "ename": "",
     "evalue": "",
     "output_type": "error",
     "traceback": [
      "\u001b[1;31mFailed to start the Kernel. \n",
      "\u001b[1;31mUnable to start Kernel 'Python 3.9.4' due to a timeout waiting for the ports to get used. \n",
      "\u001b[1;31mView Jupyter <a href='command:jupyter.viewOutput'>log</a> for further details."
     ]
    }
   ],
   "source": [
    "stats.head ()"
   ]
  },
  {
   "cell_type": "code",
   "execution_count": null,
   "metadata": {},
   "outputs": [
    {
     "ename": "",
     "evalue": "",
     "output_type": "error",
     "traceback": [
      "\u001b[1;31mFailed to start the Kernel. \n",
      "\u001b[1;31mUnable to start Kernel 'Python 3.9.4' due to a timeout waiting for the ports to get used. \n",
      "\u001b[1;31mView Jupyter <a href='command:jupyter.viewOutput'>log</a> for further details."
     ]
    }
   ],
   "source": [
    "#exploring the data\n",
    "stats.info ()\n",
    "\n",
    "'''the data types are already listed by the .info()\n",
    " therefore there is no need to run dtypes'''\n",
    "#print (stats.dtypes)\n",
    "\n",
    "stats.describe()"
   ]
  },
  {
   "cell_type": "code",
   "execution_count": null,
   "metadata": {},
   "outputs": [
    {
     "ename": "",
     "evalue": "",
     "output_type": "error",
     "traceback": [
      "\u001b[1;31mFailed to start the Kernel. \n",
      "\u001b[1;31mUnable to start Kernel 'Python 3.9.4' due to a timeout waiting for the ports to get used. \n",
      "\u001b[1;31mView Jupyter <a href='command:jupyter.viewOutput'>log</a> for further details."
     ]
    }
   ],
   "source": [
    "#missing values\n",
    "stats.isnull().sum()\n",
    "\n",
    "#stats.isnull().value_counts()"
   ]
  },
  {
   "cell_type": "markdown",
   "metadata": {},
   "source": [
    "## Step 3: Exploratory Data Analysis & Visualization"
   ]
  },
  {
   "cell_type": "markdown",
   "metadata": {},
   "source": [
    "**Question 1: From which countries has Canada admitted the highest number of refugees?**"
   ]
  },
  {
   "cell_type": "code",
   "execution_count": null,
   "metadata": {},
   "outputs": [
    {
     "ename": "",
     "evalue": "",
     "output_type": "error",
     "traceback": [
      "\u001b[1;31mFailed to start the Kernel. \n",
      "\u001b[1;31mUnable to start Kernel 'Python 3.9.4' due to a timeout waiting for the ports to get used. \n",
      "\u001b[1;31mView Jupyter <a href='command:jupyter.viewOutput'>log</a> for further details."
     ]
    }
   ],
   "source": [
    "high_cntry_refugee = stats.groupby('Country-of-origin')['UNHCR-refugees'].sum().reset_index(name='UNHCR-refugees').sort_values(by='UNHCR-refugees', ascending=False).head(10)\n",
    "\n",
    "print (high_cntry_refugee)"
   ]
  },
  {
   "cell_type": "code",
   "execution_count": null,
   "metadata": {},
   "outputs": [
    {
     "ename": "",
     "evalue": "",
     "output_type": "error",
     "traceback": [
      "\u001b[1;31mFailed to start the Kernel. \n",
      "\u001b[1;31mUnable to start Kernel 'Python 3.9.4' due to a timeout waiting for the ports to get used. \n",
      "\u001b[1;31mView Jupyter <a href='command:jupyter.viewOutput'>log</a> for further details."
     ]
    }
   ],
   "source": [
    "#displaying the results as a bar\n",
    "high_cntry_refugee.reset_index(drop=True).style.bar()"
   ]
  },
  {
   "cell_type": "code",
   "execution_count": null,
   "metadata": {},
   "outputs": [
    {
     "ename": "",
     "evalue": "",
     "output_type": "error",
     "traceback": [
      "\u001b[1;31mFailed to start the Kernel. \n",
      "\u001b[1;31mUnable to start Kernel 'Python 3.9.4' due to a timeout waiting for the ports to get used. \n",
      "\u001b[1;31mView Jupyter <a href='command:jupyter.viewOutput'>log</a> for further details."
     ]
    }
   ],
   "source": [
    "#horizontal bar graph with matplot\n",
    "\n",
    "high_cntry_refugee.plot(kind= 'barh', x='Country-of-origin', title= 'Countries With The Highest Number of Refugees', xlabel='Refugees', ylabel='Country of origin')\n",
    "\n",
    "#stats.groupby('Country-of-origin')['UNHCR-refugees'].sum().sort_values(ascending=False).head(10).plot(kind= 'barh', title= 'Countries With The Highest Number of Refugees', xlabel='Refugees', ylabel='Country of origin')\n",
    "plt.show()"
   ]
  },
  {
   "cell_type": "code",
   "execution_count": null,
   "metadata": {},
   "outputs": [
    {
     "ename": "",
     "evalue": "",
     "output_type": "error",
     "traceback": [
      "\u001b[1;31mFailed to start the Kernel. \n",
      "\u001b[1;31mUnable to start Kernel 'Python 3.9.4' due to a timeout waiting for the ports to get used. \n",
      "\u001b[1;31mView Jupyter <a href='command:jupyter.viewOutput'>log</a> for further details."
     ]
    }
   ],
   "source": [
    "#seaborn plot\n",
    "sns.barplot(data=high_cntry_refugee, x='UNHCR-refugees', y='Country-of-origin')\n",
    "plt.title('Countries With Highest Number of Refugees')\n",
    "plt.show()"
   ]
  },
  {
   "cell_type": "markdown",
   "metadata": {},
   "source": [
    "**Question 2: What are the total number of resettled refugees in Canada per year?**"
   ]
  },
  {
   "cell_type": "code",
   "execution_count": null,
   "metadata": {},
   "outputs": [
    {
     "ename": "",
     "evalue": "",
     "output_type": "error",
     "traceback": [
      "\u001b[1;31mFailed to start the Kernel. \n",
      "\u001b[1;31mUnable to start Kernel 'Python 3.9.4' due to a timeout waiting for the ports to get used. \n",
      "\u001b[1;31mView Jupyter <a href='command:jupyter.viewOutput'>log</a> for further details."
     ]
    }
   ],
   "source": [
    "resettled_refugee_year= stats.groupby('Year')['UNHCR-refugees'].sum().reset_index(name='UNHCR-refugees')\n",
    "print (resettled_refugee_year)"
   ]
  },
  {
   "cell_type": "code",
   "execution_count": null,
   "metadata": {},
   "outputs": [
    {
     "ename": "",
     "evalue": "",
     "output_type": "error",
     "traceback": [
      "\u001b[1;31mFailed to start the Kernel. \n",
      "\u001b[1;31mUnable to start Kernel 'Python 3.9.4' due to a timeout waiting for the ports to get used. \n",
      "\u001b[1;31mView Jupyter <a href='command:jupyter.viewOutput'>log</a> for further details."
     ]
    }
   ],
   "source": [
    "#seaborn line graph\n",
    "sns.lineplot(data=resettled_refugee_year, x='Year', y= 'UNHCR-refugees', marker='o')\n",
    "plt.title(\"Total Resettled Refugees Per Year\")\n",
    "plt.ylabel('Total Refugees')\n",
    "plt.show()"
   ]
  },
  {
   "cell_type": "markdown",
   "metadata": {},
   "source": [
    "**Question 3: What are the countries of origin for the majority of asylum claims made in Canada?**"
   ]
  },
  {
   "cell_type": "code",
   "execution_count": null,
   "metadata": {},
   "outputs": [
    {
     "ename": "",
     "evalue": "",
     "output_type": "error",
     "traceback": [
      "\u001b[1;31mFailed to start the Kernel. \n",
      "\u001b[1;31mUnable to start Kernel 'Python 3.9.4' due to a timeout waiting for the ports to get used. \n",
      "\u001b[1;31mView Jupyter <a href='command:jupyter.viewOutput'>log</a> for further details."
     ]
    }
   ],
   "source": [
    "asylum_country = stats.groupby('Country-of-origin')['Asylum-seekers'].sum().reset_index(name='Asylum-seekers').sort_values(by='Asylum-seekers',ascending= False).head (10)\n",
    "asylum_country.reset_index(drop=True).style.bar(color= \"green\")"
   ]
  },
  {
   "cell_type": "code",
   "execution_count": null,
   "metadata": {},
   "outputs": [
    {
     "ename": "",
     "evalue": "",
     "output_type": "error",
     "traceback": [
      "\u001b[1;31mFailed to start the Kernel. \n",
      "\u001b[1;31mUnable to start Kernel 'Python 3.9.4' due to a timeout waiting for the ports to get used. \n",
      "\u001b[1;31mView Jupyter <a href='command:jupyter.viewOutput'>log</a> for further details."
     ]
    }
   ],
   "source": [
    "#displaying results excluding the unkonwn countries\n",
    "#asylum_country.query(['Country-of-origin==\"Unknown\"'])\n"
   ]
  },
  {
   "cell_type": "code",
   "execution_count": null,
   "metadata": {},
   "outputs": [
    {
     "ename": "",
     "evalue": "",
     "output_type": "error",
     "traceback": [
      "\u001b[1;31mFailed to start the Kernel. \n",
      "\u001b[1;31mUnable to start Kernel 'Python 3.9.4' due to a timeout waiting for the ports to get used. \n",
      "\u001b[1;31mView Jupyter <a href='command:jupyter.viewOutput'>log</a> for further details."
     ]
    }
   ],
   "source": [
    "#seaborn plot\n",
    "sns.barplot(data=asylum_country, y='Country-of-origin', x='Asylum-seekers')\n",
    "\n",
    "plt.title('Countries With Highest Number of Asylum Seekers')\n",
    "plt.show()"
   ]
  },
  {
   "cell_type": "markdown",
   "metadata": {},
   "source": [
    "**Question 4: What is the total number of asylum claims made in Canada every year?**"
   ]
  },
  {
   "cell_type": "code",
   "execution_count": null,
   "metadata": {},
   "outputs": [
    {
     "ename": "",
     "evalue": "",
     "output_type": "error",
     "traceback": [
      "\u001b[1;31mFailed to start the Kernel. \n",
      "\u001b[1;31mUnable to start Kernel 'Python 3.9.4' due to a timeout waiting for the ports to get used. \n",
      "\u001b[1;31mView Jupyter <a href='command:jupyter.viewOutput'>log</a> for further details."
     ]
    }
   ],
   "source": [
    "asy_claim_year = stats.groupby('Year')['Asylum-seekers'].sum().reset_index(name='Asylum-seekers')\n",
    "print (asy_claim_year)"
   ]
  },
  {
   "cell_type": "code",
   "execution_count": null,
   "metadata": {},
   "outputs": [
    {
     "ename": "",
     "evalue": "",
     "output_type": "error",
     "traceback": [
      "\u001b[1;31mFailed to start the Kernel. \n",
      "\u001b[1;31mUnable to start Kernel 'Python 3.9.4' due to a timeout waiting for the ports to get used. \n",
      "\u001b[1;31mView Jupyter <a href='command:jupyter.viewOutput'>log</a> for further details."
     ]
    }
   ],
   "source": [
    "#seaborn line graph\n",
    "sns.lineplot(data=asy_claim_year, x= 'Year', y='Asylum-seekers', marker='o')\n",
    "\n",
    "plt.title('Total Asylum Seekers Per Year')\n",
    "plt.ylabel('Total asylum Seekers')\n",
    "plt.show()\n"
   ]
  },
  {
   "cell_type": "markdown",
   "metadata": {},
   "source": [
    "**Question 5: What are the general trends in refugee and asylum statistics from 2012-2022?**"
   ]
  },
  {
   "cell_type": "code",
   "execution_count": null,
   "metadata": {},
   "outputs": [
    {
     "ename": "",
     "evalue": "",
     "output_type": "error",
     "traceback": [
      "\u001b[1;31mFailed to start the Kernel. \n",
      "\u001b[1;31mUnable to start Kernel 'Python 3.9.4' due to a timeout waiting for the ports to get used. \n",
      "\u001b[1;31mView Jupyter <a href='command:jupyter.viewOutput'>log</a> for further details."
     ]
    }
   ],
   "source": [
    "#creating a data frame that contains the year, refugee and asylum seekers total count per year\n",
    "trend_df = resettled_refugee_year\n",
    "trend_df ['Asylum-seekers'] = asy_claim_year['Asylum-seekers']\n",
    "\n",
    "plt.figure(figsize=(8,6))\n",
    "sns.lineplot (data=trend_df, x='Year', y='UNHCR-refugees', marker='s', color = 'salmon')\n",
    "sns.lineplot (data=trend_df, x='Year', y= 'Asylum-seekers', marker = 'd', color = 'teal')\n",
    "\n",
    "plt.title ('Trends In Refugee and Asylum Statistics (2012-2022)')\n",
    "plt.ylabel('Total People')\n",
    "\n",
    "#add a legend and grid\n",
    "plt.grid()\n",
    "\n",
    "plt.show()"
   ]
  },
  {
   "cell_type": "code",
   "execution_count": null,
   "metadata": {},
   "outputs": [
    {
     "ename": "",
     "evalue": "",
     "output_type": "error",
     "traceback": [
      "\u001b[1;31mFailed to start the Kernel. \n",
      "\u001b[1;31mUnable to start Kernel 'Python 3.9.4' due to a timeout waiting for the ports to get used. \n",
      "\u001b[1;31mView Jupyter <a href='command:jupyter.viewOutput'>log</a> for further details."
     ]
    }
   ],
   "source": [
    "trend_df.head (10)"
   ]
  },
  {
   "cell_type": "code",
   "execution_count": null,
   "metadata": {},
   "outputs": [
    {
     "ename": "",
     "evalue": "",
     "output_type": "error",
     "traceback": [
      "\u001b[1;31mFailed to start the Kernel. \n",
      "\u001b[1;31mUnable to start Kernel 'Python 3.9.4' due to a timeout waiting for the ports to get used. \n",
      "\u001b[1;31mView Jupyter <a href='command:jupyter.viewOutput'>log</a> for further details."
     ]
    }
   ],
   "source": [
    "#to create a seaborn barplot, first melt the df\n",
    "melted_df = pd.melt(trend_df, id_vars=['Year'], value_vars=['UNHCR-refugees', 'Asylum-seekers'], var_name='Persons', value_name= 'Counts')\n",
    "\n",
    "plt.figure(figsize=(10,6))\n",
    "sns.barplot (data=melted_df, x='Year', y='Counts', hue='Persons')\n",
    "\n",
    "# Adding labels and title\n",
    "plt.title('Total Number of Refugees and Asylum Seekers from 2012-2022')\n",
    "plt.xlabel('Year')\n",
    "plt.ylabel('Count')\n",
    "\n",
    "plt.show()"
   ]
  },
  {
   "cell_type": "markdown",
   "metadata": {},
   "source": [
    "## 2012- 2022 Canada Refugee Statistics EDA Results Summary"
   ]
  },
  {
   "cell_type": "markdown",
   "metadata": {},
   "source": [
    "**1. Top 10 countries from which Canada has admitted the highest number of refugees.**\n",
    "* Colombia (108416)\n",
    "* China (98586)\n",
    "* Ukraine (88376)\n",
    "* Pakistan (74737)\n",
    "* Haiti (70956)\n",
    "* Sri Lanka (66343)\n",
    "* Nigeria (60554)\n",
    "* Mexico (51072)\n",
    "* Türkiye (42533)\n",
    "* Iran (Islamic Rep. of) (40881)\n",
    "\n",
    "**2. Total number of refugees resettled in Canada per year**\n",
    "* 2012: 163751   \n",
    "* 2013: 160347\n",
    "* 2014: 149164\n",
    "* 2015: 135890\n",
    "* 2016: 97322\n",
    "* 2017: 104768\n",
    "* 2018: 114101\n",
    "* 2019: 101757\n",
    "* 2020: 109214\n",
    "* 2021: 130125\n",
    "* 2022: 140621\n",
    "\n",
    "**3. Top 10 countries of origin for the majority of asylum claims in Canada**\n",
    "* Unkonwn: 56098\n",
    "* Nigeria: 51620\n",
    "* India: 48806\n",
    "* Mexico: 47146\n",
    "* Haiti: 40908\n",
    "* Colombia: 30475\n",
    "* China: 21526\n",
    "* Pakistan: 19023\n",
    "* Türkiye: 18166\n",
    "* Iran (Islamic Rep. of): 15011\n",
    "\n",
    "**4. Total number of asylum seekers in Canada per year**\n",
    "* 2012: 32647\n",
    "* 2013: 22145\n",
    "* 2014: 16699\n",
    "* 2015: 19631\n",
    "* 2016: 23946\n",
    "* 2017: 51859\n",
    "* 2018: 78766\n",
    "* 2019: 97017\n",
    "* 2020: 85352\n",
    "* 2021: 63143\n",
    "* 2022: 113066\n",
    "\n",
    "**5. General trends in refugee and asylum statistics from 2012-2022**\n",
    "* There was a continuous decline in the number of refugees being resettled in Canada between the years 2012 and 2016.\n",
    "* A slight increase was experienced between 2016 and 2018.Despite the slight drop in the numbers in 2018 to 2019, there has been a steady increase in the number of refugees between 2019 and 2022.\n",
    "\n",
    "* There was a slight decline between 2012 and 2014 in the number of asylum seekers. A slight increase occured between 2014 and 2016, followed by steady incline between 2016 and 2019.\n",
    "* A significant decline was experienced thereafter. However, there was a steep increase in the number of asylum seekers between 2021 and 2022."
   ]
  }
 ],
 "metadata": {
  "kernelspec": {
   "display_name": "Python 3",
   "language": "python",
   "name": "python3"
  },
  "language_info": {
   "codemirror_mode": {
    "name": "ipython",
    "version": 3
   },
   "file_extension": ".py",
   "mimetype": "text/x-python",
   "name": "python",
   "nbconvert_exporter": "python",
   "pygments_lexer": "ipython3",
   "version": "3.9.4"
  },
  "orig_nbformat": 4
 },
 "nbformat": 4,
 "nbformat_minor": 2
}
